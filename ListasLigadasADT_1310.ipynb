{
  "nbformat": 4,
  "nbformat_minor": 0,
  "metadata": {
    "colab": {
      "name": "ListasLigadasADT_1310.ipynb",
      "provenance": [],
      "collapsed_sections": []
    },
    "kernelspec": {
      "name": "python3",
      "display_name": "Python 3"
    },
    "language_info": {
      "name": "python"
    }
  },
  "cells": [
    {
      "cell_type": "markdown",
      "metadata": {
        "id": "Pv8Mj3Ts0kb8"
      },
      "source": [
        "#Ejercicios con la clase nodo\n",
        "\n",
        "- Crear un nodo\n",
        "    - Imprimir el valor del nodo\n",
        "- Crear dos nodos\n",
        "    - Imprimir el valor del primero\n",
        "    - Imprimir el valor del segundo\n",
        "    - Transversional\n",
        "- Lo mismo pero con 4 nodos\n",
        "\n",
        "#todo antes de ir a la estructura formal de lista ligada"
      ]
    },
    {
      "cell_type": "code",
      "metadata": {
        "id": "2NLqIk6H1JNI"
      },
      "source": [
        "class Nodo:\n",
        "    def __init__( self, value, siguiente = None ):\n",
        "        self.data = value\n",
        "        self.next = siguiente"
      ],
      "execution_count": 19,
      "outputs": []
    },
    {
      "cell_type": "code",
      "metadata": {
        "colab": {
          "base_uri": "https://localhost:8080/"
        },
        "id": "wEaejM_Q1tvm",
        "outputId": "054ccb0b-8cdc-46dc-fb94-0daee7d8b3fe"
      },
      "source": [
        "head = Nodo(10)\n",
        "print( head.data )"
      ],
      "execution_count": 20,
      "outputs": [
        {
          "output_type": "stream",
          "name": "stdout",
          "text": [
            "10\n"
          ]
        }
      ]
    },
    {
      "cell_type": "code",
      "metadata": {
        "colab": {
          "base_uri": "https://localhost:8080/"
        },
        "id": "OySC5jx12efw",
        "outputId": "dbe747eb-ebeb-4016-867c-bf27885793e9"
      },
      "source": [
        "head = Nodo(10)\n",
        "head.next = Nodo(20)\n",
        "print(f\"Primero = { head.data }\")\n",
        "print(f\"Segundo = { head.next.data }\")\n",
        "\n",
        "#Lo mismo pero ahorrando codigo\n",
        "\n",
        "head = Nodo (10, Nodo(20))\n",
        "print(f\"Primero = { head.data }\")\n",
        "print(f\"Segundo = { head.next.data }\")\n",
        "\n",
        "# transversal\n",
        "\n",
        "curr_node = head\n",
        "while curr_node != None:\n",
        "    print(f\" | {curr_node.data} | --->\", end=\"\")\n",
        "    curr_node = curr_node.next\n",
        "    print(\"\")\n",
        "\n",
        "curr_node = Nodo(25)"
      ],
      "execution_count": 21,
      "outputs": [
        {
          "output_type": "stream",
          "name": "stdout",
          "text": [
            "Primero = 10\n",
            "Segundo = 20\n",
            "Primero = 10\n",
            "Segundo = 20\n",
            " | 10 | --->\n",
            " | 20 | --->\n"
          ]
        }
      ]
    },
    {
      "cell_type": "code",
      "metadata": {
        "colab": {
          "base_uri": "https://localhost:8080/"
        },
        "id": "IPdCbrIE655D",
        "outputId": "d121135d-3f43-4f29-ebfd-cb878bf23a71"
      },
      "source": [
        "head = Nodo(10,Nodo(20, Nodo(30,Nodo(40))))\n",
        "\n",
        "curr_node = head\n",
        "while curr_node != None:\n",
        "    print(f\" | {curr_node.data} | --->\", end=\"\")\n",
        "    curr_node = curr_node.next\n",
        "print(\"\")\n",
        "#imprimir el primero\n",
        "print(head.data)\n",
        "#imprimir el ultimo\n",
        "curr_node = head\n",
        "while curr_node.next != None:\n",
        "    curr_node = curr_node.next\n",
        "print(curr_node.data)\n",
        "\n",
        "curr_node = head\n",
        "while curr_node.data != 20:\n",
        "    curr_node = curr_node.next\n",
        "print(curr_node.data)\n",
        "\n",
        "\n"
      ],
      "execution_count": 22,
      "outputs": [
        {
          "output_type": "stream",
          "name": "stdout",
          "text": [
            " | 10 | ---> | 20 | ---> | 30 | ---> | 40 | --->\n",
            "10\n",
            "40\n",
            "20\n"
          ]
        }
      ]
    },
    {
      "cell_type": "code",
      "metadata": {
        "colab": {
          "base_uri": "https://localhost:8080/"
        },
        "id": "-HTcYrC_Z2r_",
        "outputId": "30c87c30-e952-41c7-dd14-ddc99be39529"
      },
      "source": [
        "head = Nodo(10)\n",
        "head.next = Nodo(20)\n",
        "print(f\"Primero = { head.data }\")\n",
        "print(f\"Segundo = { head.next.data }\")\n",
        "\n",
        "#Lo mismo pero ahorrando codigo\n",
        "\n",
        "head = Nodo (10, Nodo(20))\n",
        "print(f\"Primero = { head.data }\")\n",
        "print(f\"Segundo = { head.next.data }\")\n",
        "\n",
        "# transversal\n",
        "\n",
        "curr_node = head\n",
        "while curr_node != None:\n",
        "    print(f\" | {curr_node.data} | --->\", end=\"\")\n",
        "    curr_node = curr_node.next\n",
        "    print(\"\")\n",
        "\n",
        "# Nodo 25\n",
        "curr_node = Nodo(25)\n",
        "curr_node.next = Nodo(25,curr_node.next)\n",
        "print(\" Despues de insertar 25\")\n",
        "\n",
        "# transversal\n",
        "curr_node = head\n",
        "while curr_node != None:\n",
        "    print(f\" | {curr_node.data} | --->\", end=\"\")\n",
        "    curr_node = curr_node.next\n",
        "    print(\"\")"
      ],
      "execution_count": 23,
      "outputs": [
        {
          "output_type": "stream",
          "name": "stdout",
          "text": [
            "Primero = 10\n",
            "Segundo = 20\n",
            "Primero = 10\n",
            "Segundo = 20\n",
            " | 10 | --->\n",
            " | 20 | --->\n",
            " Despues de insertar 25\n",
            " | 10 | --->\n",
            " | 20 | --->\n"
          ]
        }
      ]
    },
    {
      "cell_type": "code",
      "metadata": {
        "id": "qVddO8O-c5lM"
      },
      "source": [
        "class Nodo:\n",
        "    def __init__( self , value , siguiente = None ):\n",
        "        self.data = value\n",
        "        self.next = siguiente\n",
        "\n",
        "class LinkedList:\n",
        "    def __init__( self ):\n",
        "        self.head = None\n",
        "    \n",
        "    def is_empty( self ):\n",
        "        return self.head == None\n",
        "    \n",
        "    def get_tail( self ):\n",
        "        if self.is_empty():\n",
        "            return None\n",
        "        else:\n",
        "            curr_node = self.head\n",
        "            while curr_node.next != None:\n",
        "                curr_node = curr_node.next\n",
        "            return curr_node\n",
        "    \n",
        "    def preppend( self , value ):\n",
        "        if self.head == None:\n",
        "            print(\"Esta vacio, no se puede hacer preppend\")\n",
        "        else:\n",
        "            aux = self.head\n",
        "            self.head = Nodo( value, aux )\n",
        "\n",
        "    def append( self , value ):\n",
        "        if self.head == None:\n",
        "            self.head = Nodo( value )\n",
        "        else:\n",
        "            curr_node = self.head\n",
        "            while curr_node.next != None:\n",
        "                curr_node = curr_node.next\n",
        "            curr_node.next = Nodo(value)\n",
        "\n",
        "    def transversal( self ):\n",
        "        curr_node = self.head\n",
        "        while curr_node != None:\n",
        "            print(f\"| { curr_node.data } | -->\", end=\"\")\n",
        "            curr_node = curr_node.next\n",
        "        print(\"\")\n",
        "    \n",
        "    def remove( self, value):\n",
        "        if self.head == None:\n",
        "            print(\"Lista vacia, no se puede remover nada\")\n",
        "        else:\n",
        "            curr_node = self.head\n",
        "            aux = None\n",
        "            while curr_node.data != value: #revisar cuando el valor no exista\n",
        "                aux = curr_node\n",
        "                curr_node = curr_node.next\n",
        "            \n",
        "            if curr_node != None:\n",
        "                aux.next = curr_node.next\n",
        "                curr_node = None\n",
        "    \n",
        "    def pop( self ):\n",
        "        curr_node = self.head #5\n",
        "        while curr_node.next.next != None:\n",
        "            #print(curr_node.data)\n",
        "            #print(curr_node.next.next.data)\n",
        "            curr_node = curr_node.next\n",
        "        print(f\"Nodo seleccionado: {curr_node.next.data}\")\n",
        "        curr_node.next = None\n",
        "\n",
        "    def pop_first( self ):\n",
        "        print(f\"Nodo seleccionado: {self.head.data}\")\n",
        "        self.head = self.head.next"
      ],
      "execution_count": 24,
      "outputs": []
    },
    {
      "cell_type": "code",
      "metadata": {
        "colab": {
          "base_uri": "https://localhost:8080/"
        },
        "id": "JSJp_3RGfcSi",
        "outputId": "0e2226c6-4736-4d9c-dfe9-4670228ef7f5"
      },
      "source": [
        "lista = LinkedList()\n",
        "if lista.is_empty():\n",
        "    print(\"La lista está vacia\")\n",
        "else:\n",
        "    print(\"Las lista no está vacia\")\n",
        "\n",
        "lista.append(10)\n",
        "lista.append(20)\n",
        "lista.append(30)\n",
        "lista.append(40)\n",
        "lista.append(50)\n",
        "\n",
        "nodo = lista.get_tail()\n",
        "if nodo != None:\n",
        "    print(nodo.data)\n",
        "else:\n",
        "    print(\"Lista vacia\")\n",
        "\n",
        "lista.transversal()\n",
        "lista.remove(30)\n",
        "lista.transversal()\n",
        "print(\"\")\n",
        "print(\"Después del preppend\")\n",
        "lista.preppend(5)\n",
        "lista.transversal()\n",
        "print(\"\")\n",
        "print(\"Después de pop\")\n",
        "lista.pop()\n",
        "lista.transversal()\n",
        "print(\"\")\n",
        "print(\"Después de pop_first\")\n",
        "lista.pop_first()\n",
        "lista.transversal()"
      ],
      "execution_count": 25,
      "outputs": [
        {
          "output_type": "stream",
          "name": "stdout",
          "text": [
            "La lista está vacia\n",
            "50\n",
            "| 10 | -->| 20 | -->| 30 | -->| 40 | -->| 50 | -->\n",
            "| 10 | -->| 20 | -->| 40 | -->| 50 | -->\n",
            "\n",
            "Después del preppend\n",
            "| 5 | -->| 10 | -->| 20 | -->| 40 | -->| 50 | -->\n",
            "\n",
            "Después de pop\n",
            "Nodo seleccionado: 50\n",
            "| 5 | -->| 10 | -->| 20 | -->| 40 | -->\n",
            "\n",
            "Después de pop_first\n",
            "Nodo seleccionado: 5\n",
            "| 10 | -->| 20 | -->| 40 | -->\n"
          ]
        }
      ]
    },
    {
      "cell_type": "markdown",
      "metadata": {
        "id": "AWQWREp-tBVd"
      },
      "source": [
        "###listas doblemente ligadas"
      ]
    },
    {
      "cell_type": "code",
      "metadata": {
        "id": "WuWz0Gt7tDkb"
      },
      "source": [
        "class NodoDoble:\n",
        "    def __init__( self, value, siguiente=None, previo=None ):\n",
        "        self.data = value\n",
        "        self.next = siguiente\n",
        "        self.prev = previo\n"
      ],
      "execution_count": 26,
      "outputs": []
    },
    {
      "cell_type": "code",
      "metadata": {
        "colab": {
          "base_uri": "https://localhost:8080/"
        },
        "id": "xzs68yBcuTg3",
        "outputId": "6c36586f-0257-401c-ef2d-1f59fdd0f116"
      },
      "source": [
        "#Nodo doble\n",
        "head = NodoDoble(10)\n",
        "tail = head\n",
        "print(head.data)\n",
        "print(tail.data)\n",
        "print(\"---------------\")\n",
        "\n",
        "#Ejercicio 2\n",
        "# iMPRIMIR EL PRIMERO Y EL ULTIMO\n",
        "head = NodoDoble( 10, NodoDoble( 20 ) )\n",
        "head.next.prev = head\n",
        "tail = head.next\n",
        "print(\"El primero:\", head.data)\n",
        "print(\"El primero:\", tail.prev.data)\n",
        "\n",
        "print(\"El segundo:\", head.next.data)\n",
        "print(\"El segundo:\", tail.data)\n",
        "\n",
        "print(\"---------------\")\n",
        "\n",
        "#Ejercicio 3\n",
        "head =NodoDoble( 10, NodoDoble( 20, NodoDoble( 30, NodoDoble(40 ))))\n",
        "head.next.prev = head\n",
        "tail = head.next.next.next\n",
        "head.next.prev = head\n",
        "head.next.next.prev = head.next\n",
        "tail.prev = head.next.next\n",
        "\n",
        "print(\"El primero:\", head.data)\n",
        "print(\"El primero:\", tail.prev.prev.prev.data)\n",
        "\n",
        "print(\"El segundo:\", head.next.next.next.data)\n",
        "print(\"El segundo:\", tail.data)\n",
        "\n",
        "#Transversal\n",
        "curr_node = head\n",
        "while curr_node != None:\n",
        "  print(f\"|{curr_node.data}|-->\", end=\"\")\n",
        "  curr_node = curr_node.next\n",
        "print(\"\")\n",
        "\n",
        "#reverse transversal\n",
        "curr_node = tail\n",
        "while curr_node != None:\n",
        "  print(f\"|{curr_node.data}|-->\", end=\"\")\n",
        "  curr_node = curr_node.prev\n",
        "print(\"\")\n",
        "\n",
        "print(\"Agregar el 50 al final\")\n",
        "tail.next = NodoDoble( 50, None, tail)\n",
        "curr_node = head\n",
        "while curr_node != None:\n",
        "  print(f\"|{curr_node.data}|-->\", end=\"\")\n",
        "  curr_node = curr_node.next\n",
        "print(\"\")\n",
        "\n",
        "curr_node = tail.next\n",
        "while curr_node != None:\n",
        "  print(f\"|{curr_node.data}|-->\", end=\"\")\n",
        "  curr_node = curr_node.prev\n",
        "print(\"\")"
      ],
      "execution_count": 27,
      "outputs": [
        {
          "output_type": "stream",
          "name": "stdout",
          "text": [
            "10\n",
            "10\n",
            "---------------\n",
            "El primero: 10\n",
            "El primero: 10\n",
            "El segundo: 20\n",
            "El segundo: 20\n",
            "---------------\n",
            "El primero: 10\n",
            "El primero: 10\n",
            "El segundo: 40\n",
            "El segundo: 40\n",
            "|10|-->|20|-->|30|-->|40|-->\n",
            "|40|-->|30|-->|20|-->|10|-->\n",
            "Agregar el 50 al final\n",
            "|10|-->|20|-->|30|-->|40|-->|50|-->\n",
            "|50|-->|40|-->|30|-->|20|-->|10|-->\n"
          ]
        }
      ]
    },
    {
      "cell_type": "code",
      "metadata": {
        "id": "nD2CC9SE8yAw"
      },
      "source": [
        "class NodoDoble:\n",
        "    def __init__( self , value , siguiente = None , previo = None ):\n",
        "        self.data = value\n",
        "        self.next = siguiente\n",
        "        self.prev = previo\n",
        "\n",
        "class DoubleLinkedList:\n",
        "    def __init__( self ):\n",
        "        self.head = None\n",
        "        self.tail = None\n",
        "        self.size = 0\n",
        "\n",
        "    def get_size( self ):\n",
        "        return self.size\n",
        "    \n",
        "    def is_empty( self ): \n",
        "        return self.size == 0\n",
        "    \n",
        "    def append( self , value ):\n",
        "        if self.is_empty():\n",
        "            self.head = NodoDoble( value )\n",
        "            self.tail = self.head\n",
        "        else:\n",
        "            self.tail.next = NodoDoble( value , None , self.tail )\n",
        "            self.tail = self.tail.next\n",
        "        self.size += 1\n",
        "    \n",
        "    def find_from_tail( self , value ):\n",
        "        curr_node = self.tail\n",
        "        contador = 0\n",
        "        while curr_node.data != value:\n",
        "            contador += 1\n",
        "            curr_node = curr_node.prev\n",
        "        \n",
        "        if curr_node.data == value:\n",
        "            print(f\"El Nodo está en la posición: { contador + 1 } que entra por tail\")\n",
        "\n",
        "    def find_from_head( self , value ):\n",
        "        curr_node = self.head\n",
        "        contador = 0\n",
        "        while curr_node.data != value:\n",
        "            contador += 1\n",
        "            curr_node = curr_node.next\n",
        "\n",
        "        if curr_node.data == value:\n",
        "            print(f\"El Nodo está en la posición: { contador + 1 } que entra por head\")\n",
        "\n",
        "    def remove_from_tail( self , value ):\n",
        "        curr_node = self.tail\n",
        "        while curr_node.data != value:\n",
        "            curr_node = curr_node.prev\n",
        "        \n",
        "        if curr_node.data == value:\n",
        "            curr_node.next.prev = curr_node.prev\n",
        "            curr_node.prev.next = curr_node.next\n",
        "\n",
        "    def remove_from_head( self , value ):\n",
        "        curr_node = self.head\n",
        "        while curr_node.data != value:\n",
        "            curr_node = curr_node.next\n",
        "\n",
        "        if curr_node.data == value:\n",
        "            curr_node.prev.next = curr_node.next\n",
        "            curr_node.next.prev = curr_node.prev\n",
        "        \n",
        "    def transversal( self ):\n",
        "        curr_node = self.head\n",
        "        while curr_node != None:\n",
        "            print(f\"| {curr_node.data} | -->\", end=\"\")\n",
        "            curr_node = curr_node.next\n",
        "        print(\"\")\n",
        "\n",
        "\n",
        "    def reverse_transversal( self ):\n",
        "        curr_node = self.tail\n",
        "        while curr_node != None:\n",
        "            print(f\"| {curr_node.data} | -->\", end=\"\")\n",
        "            curr_node = curr_node.prev\n",
        "        print(\"\")"
      ],
      "execution_count": 30,
      "outputs": []
    },
    {
      "cell_type": "code",
      "metadata": {
        "colab": {
          "base_uri": "https://localhost:8080/"
        },
        "id": "lPHnmiS0_-6n",
        "outputId": "dae8f9a8-174f-4855-fe08-6b9269bdaaeb"
      },
      "source": [
        "ldl = DoubleLinkedList()\n",
        "ldl.append(10)\n",
        "ldl.append(20)\n",
        "ldl.append(30)\n",
        "ldl.append(40)\n",
        "ldl.append(50)\n",
        "ldl.append(60)\n",
        "ldl.transversal()\n",
        "print(\"\")\n",
        "print(f\"¿La lista está vacía?: { ldl.is_empty() }\")\n",
        "print(\"\")\n",
        "print(\"Después de remove_from_head\")\n",
        "ldl.remove_from_head(20)\n",
        "ldl.transversal()\n",
        "print(\"\")\n",
        "print(\"Después de remove_from_tail\")\n",
        "ldl.remove_from_tail(30)\n",
        "ldl.transversal()\n",
        "print(\"\")\n",
        "print(f\"La Lista Doblemente Ligada tiene { ldl.get_size() } elementos\")\n",
        "print(\"\")\n",
        "ldl.find_from_tail(40)\n",
        "print(\"\")\n",
        "ldl.find_from_head(50)\n",
        "print(\"\")\n",
        "print(\"reverse_transversal:\")\n",
        "ldl.reverse_transversal()\n",
        "print(\"\")"
      ],
      "execution_count": 31,
      "outputs": [
        {
          "output_type": "stream",
          "name": "stdout",
          "text": [
            "| 10 | -->| 20 | -->| 30 | -->| 40 | -->| 50 | -->| 60 | -->\n",
            "\n",
            "¿La lista está vacía?: False\n",
            "\n",
            "Después de remove_from_head\n",
            "| 10 | -->| 30 | -->| 40 | -->| 50 | -->| 60 | -->\n",
            "\n",
            "Después de remove_from_tail\n",
            "| 10 | -->| 40 | -->| 50 | -->| 60 | -->\n",
            "\n",
            "La Lista Doblemente Ligada tiene 6 elementos\n",
            "\n",
            "El Nodo está en la posición: 3 que entra por tail\n",
            "\n",
            "El Nodo está en la posición: 3 que entra por head\n",
            "\n",
            "reverse_transversal:\n",
            "| 60 | -->| 50 | -->| 40 | -->| 10 | -->\n",
            "\n"
          ]
        }
      ]
    }
  ]
}